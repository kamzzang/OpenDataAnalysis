{
 "cells": [
  {
   "cell_type": "markdown",
   "metadata": {},
   "source": [
    "# 전국 신규 민간 아파트 분양가격 분석\n",
    "* 박조은님의 유튜브 명강의와 Github 참조함\n",
    "    * Youtube(오늘코드) [Link](https://www.youtube.com/watch?v=H6-Y-sipgCk&list=PLaTc2c6yEwmpoDDdE9C1p0xfQXz6eEzmH&index=2&t=26s)\n",
    "    * Github(corazzon) [Link](https://github.com/corazzon/OpenDataWrangling)\n",
    "* 데이터 : 공공데이터 포털 [Data Link](https://www.data.go.kr/dataset/3035522/fileData.do)"
   ]
  },
  {
   "cell_type": "markdown",
   "metadata": {},
   "source": [
    "## 데이터\n",
    "* 주택도시보증공사_전국 평균 분양가격(2020년 2월)\n",
    "* 2015년 10월부터 2020년 2월까지의 전국 공동주택의 연도별, 월별, 전용면적별 제곱미터당 평균분양가격 데이터"
   ]
  },
  {
   "cell_type": "code",
   "execution_count": 1,
   "metadata": {},
   "outputs": [],
   "source": [
    "import warnings\n",
    "warnings.filterwarnings('ignore')\n",
    "\n",
    "import pandas as pd\n",
    "import numpy as np\n",
    "import re\n",
    "\n",
    "import missingno as msno\n",
    "\n",
    "\n",
    "%matplotlib inline\n",
    "import matplotlib.pyplot as plt\n",
    "\n",
    "# Window 의 한글 폰트 설정\n",
    "plt.rc('font',family='Malgun Gothic')\n",
    "# Mac 의 한글 폰트 설정\n",
    "# plt.rc('font', family='AppleGothic') "
   ]
  },
  {
   "cell_type": "code",
   "execution_count": 2,
   "metadata": {},
   "outputs": [
    {
     "data": {
      "text/plain": [
       "(4505, 5)"
      ]
     },
     "execution_count": 2,
     "metadata": {},
     "output_type": "execute_result"
    }
   ],
   "source": [
    "pre_sale = pd.read_csv('data/apt_price/주택도시보증공사_전국 평균 분양가격(2020년 2월).csv', \n",
    "                       encoding='euc-kr', engine='python')\n",
    "pre_sale.shape"
   ]
  },
  {
   "cell_type": "code",
   "execution_count": 3,
   "metadata": {},
   "outputs": [
    {
     "data": {
      "text/html": [
       "<div>\n",
       "<style scoped>\n",
       "    .dataframe tbody tr th:only-of-type {\n",
       "        vertical-align: middle;\n",
       "    }\n",
       "\n",
       "    .dataframe tbody tr th {\n",
       "        vertical-align: top;\n",
       "    }\n",
       "\n",
       "    .dataframe thead th {\n",
       "        text-align: right;\n",
       "    }\n",
       "</style>\n",
       "<table border=\"1\" class=\"dataframe\">\n",
       "  <thead>\n",
       "    <tr style=\"text-align: right;\">\n",
       "      <th></th>\n",
       "      <th>지역명</th>\n",
       "      <th>규모구분</th>\n",
       "      <th>연도</th>\n",
       "      <th>월</th>\n",
       "      <th>분양가격(㎡)</th>\n",
       "    </tr>\n",
       "  </thead>\n",
       "  <tbody>\n",
       "    <tr>\n",
       "      <th>0</th>\n",
       "      <td>서울</td>\n",
       "      <td>전체</td>\n",
       "      <td>2015</td>\n",
       "      <td>10</td>\n",
       "      <td>5841</td>\n",
       "    </tr>\n",
       "    <tr>\n",
       "      <th>1</th>\n",
       "      <td>서울</td>\n",
       "      <td>전용면적 60㎡이하</td>\n",
       "      <td>2015</td>\n",
       "      <td>10</td>\n",
       "      <td>5652</td>\n",
       "    </tr>\n",
       "    <tr>\n",
       "      <th>2</th>\n",
       "      <td>서울</td>\n",
       "      <td>전용면적 60㎡초과 85㎡이하</td>\n",
       "      <td>2015</td>\n",
       "      <td>10</td>\n",
       "      <td>5882</td>\n",
       "    </tr>\n",
       "    <tr>\n",
       "      <th>3</th>\n",
       "      <td>서울</td>\n",
       "      <td>전용면적 85㎡초과 102㎡이하</td>\n",
       "      <td>2015</td>\n",
       "      <td>10</td>\n",
       "      <td>5721</td>\n",
       "    </tr>\n",
       "    <tr>\n",
       "      <th>4</th>\n",
       "      <td>서울</td>\n",
       "      <td>전용면적 102㎡초과</td>\n",
       "      <td>2015</td>\n",
       "      <td>10</td>\n",
       "      <td>5879</td>\n",
       "    </tr>\n",
       "  </tbody>\n",
       "</table>\n",
       "</div>"
      ],
      "text/plain": [
       "  지역명               규모구분    연도   월 분양가격(㎡)\n",
       "0  서울                 전체  2015  10    5841\n",
       "1  서울         전용면적 60㎡이하  2015  10    5652\n",
       "2  서울   전용면적 60㎡초과 85㎡이하  2015  10    5882\n",
       "3  서울  전용면적 85㎡초과 102㎡이하  2015  10    5721\n",
       "4  서울        전용면적 102㎡초과  2015  10    5879"
      ]
     },
     "execution_count": 3,
     "metadata": {},
     "output_type": "execute_result"
    }
   ],
   "source": [
    "pre_sale.head()"
   ]
  },
  {
   "cell_type": "code",
   "execution_count": 4,
   "metadata": {},
   "outputs": [
    {
     "data": {
      "text/plain": [
       "<matplotlib.axes._subplots.AxesSubplot at 0x16e939773c8>"
      ]
     },
     "execution_count": 4,
     "metadata": {},
     "output_type": "execute_result"
    },
    {
     "data": {
      "image/png": "[encoded data removed]",
      "text/plain": [
       "<Figure size 1296x432 with 2 Axes>"
      ]
     },
     "metadata": {
      "needs_background": "light"
     },
     "output_type": "display_data"
    }
   ],
   "source": [
    "# 결측치 확인\n",
    "msno.matrix(pre_sale, figsize=(18,6))"
   ]
  },
  {
   "cell_type": "code",
   "execution_count": 5,
   "metadata": {},
   "outputs": [
    {
     "data": {
      "text/plain": [
       "지역명        object\n",
       "규모구분       object\n",
       "연도          int64\n",
       "월           int64\n",
       "분양가격(㎡)    object\n",
       "dtype: object"
      ]
     },
     "execution_count": 5,
     "metadata": {},
     "output_type": "execute_result"
    }
   ],
   "source": [
    "pre_sale.dtypes"
   ]
  },
  {
   "cell_type": "code",
   "execution_count": 6,
   "metadata": {},
   "outputs": [],
   "source": [
    "# 연도와 월은 Category형 데이터이므로 str로 변경\n",
    "pre_sale['연도'] = pre_sale['연도'].astype(str)\n",
    "pre_sale['월'] = pre_sale['월'].astype(str)"
   ]
  },
  {
   "cell_type": "code",
   "execution_count": 7,
   "metadata": {},
   "outputs": [
    {
     "data": {
      "text/plain": [
       "0    5841\n",
       "1    5652\n",
       "2    5882\n",
       "3    5721\n",
       "4    5879\n",
       "Name: 분양가격(㎡), dtype: object"
      ]
     },
     "execution_count": 7,
     "metadata": {},
     "output_type": "execute_result"
    }
   ],
   "source": [
    "pre_sale_price = pre_sale['분양가격(㎡)']\n",
    "pre_sale_price.head()"
   ]
  },
  {
   "cell_type": "code",
   "execution_count": 8,
   "metadata": {},
   "outputs": [
    {
     "data": {
      "text/html": [
       "<div>\n",
       "<style scoped>\n",
       "    .dataframe tbody tr th:only-of-type {\n",
       "        vertical-align: middle;\n",
       "    }\n",
       "\n",
       "    .dataframe tbody tr th {\n",
       "        vertical-align: top;\n",
       "    }\n",
       "\n",
       "    .dataframe thead th {\n",
       "        text-align: right;\n",
       "    }\n",
       "</style>\n",
       "<table border=\"1\" class=\"dataframe\">\n",
       "  <thead>\n",
       "    <tr style=\"text-align: right;\">\n",
       "      <th></th>\n",
       "      <th>지역명</th>\n",
       "      <th>규모구분</th>\n",
       "      <th>연도</th>\n",
       "      <th>월</th>\n",
       "      <th>분양가격(㎡)</th>\n",
       "      <th>평당분양가격</th>\n",
       "    </tr>\n",
       "  </thead>\n",
       "  <tbody>\n",
       "    <tr>\n",
       "      <th>0</th>\n",
       "      <td>서울</td>\n",
       "      <td>전체</td>\n",
       "      <td>2015</td>\n",
       "      <td>10</td>\n",
       "      <td>5841</td>\n",
       "      <td>19275.3</td>\n",
       "    </tr>\n",
       "    <tr>\n",
       "      <th>1</th>\n",
       "      <td>서울</td>\n",
       "      <td>전용면적 60㎡이하</td>\n",
       "      <td>2015</td>\n",
       "      <td>10</td>\n",
       "      <td>5652</td>\n",
       "      <td>18651.6</td>\n",
       "    </tr>\n",
       "    <tr>\n",
       "      <th>2</th>\n",
       "      <td>서울</td>\n",
       "      <td>전용면적 60㎡초과 85㎡이하</td>\n",
       "      <td>2015</td>\n",
       "      <td>10</td>\n",
       "      <td>5882</td>\n",
       "      <td>19410.6</td>\n",
       "    </tr>\n",
       "    <tr>\n",
       "      <th>3</th>\n",
       "      <td>서울</td>\n",
       "      <td>전용면적 85㎡초과 102㎡이하</td>\n",
       "      <td>2015</td>\n",
       "      <td>10</td>\n",
       "      <td>5721</td>\n",
       "      <td>18879.3</td>\n",
       "    </tr>\n",
       "    <tr>\n",
       "      <th>4</th>\n",
       "      <td>서울</td>\n",
       "      <td>전용면적 102㎡초과</td>\n",
       "      <td>2015</td>\n",
       "      <td>10</td>\n",
       "      <td>5879</td>\n",
       "      <td>19400.7</td>\n",
       "    </tr>\n",
       "  </tbody>\n",
       "</table>\n",
       "</div>"
      ],
      "text/plain": [
       "  지역명               규모구분    연도   월 분양가격(㎡)   평당분양가격\n",
       "0  서울                 전체  2015  10    5841  19275.3\n",
       "1  서울         전용면적 60㎡이하  2015  10    5652  18651.6\n",
       "2  서울   전용면적 60㎡초과 85㎡이하  2015  10    5882  19410.6\n",
       "3  서울  전용면적 85㎡초과 102㎡이하  2015  10    5721  18879.3\n",
       "4  서울        전용면적 102㎡초과  2015  10    5879  19400.7"
      ]
     },
     "execution_count": 8,
     "metadata": {},
     "output_type": "execute_result"
    }
   ],
   "source": [
    "# 분양가격을 평당분양가격으로 변경(타입을 숫자로 변경 후 미터제곱을 평으로 환산)\n",
    "pre_sale['평당분양가격'] = pd.to_numeric(pre_sale_price, errors='coerce') * 3.3\n",
    "pre_sale.head()"
   ]
  },
  {
   "cell_type": "code",
   "execution_count": 9,
   "metadata": {},
   "outputs": [
    {
     "data": {
      "text/plain": [
       "지역명         object\n",
       "규모구분        object\n",
       "연도          object\n",
       "월           object\n",
       "분양가격(㎡)     object\n",
       "평당분양가격     float64\n",
       "dtype: object"
      ]
     },
     "execution_count": 9,
     "metadata": {},
     "output_type": "execute_result"
    }
   ],
   "source": [
    "pre_sale.dtypes"
   ]
  },
  {
   "cell_type": "code",
   "execution_count": 10,
   "metadata": {},
   "outputs": [
    {
     "name": "stdout",
     "output_type": "stream",
     "text": [
      "<class 'pandas.core.frame.DataFrame'>\n",
      "RangeIndex: 4505 entries, 0 to 4504\n",
      "Data columns (total 6 columns):\n",
      "지역명        4505 non-null object\n",
      "규모구분       4505 non-null object\n",
      "연도         4505 non-null object\n",
      "월          4505 non-null object\n",
      "분양가격(㎡)    4210 non-null object\n",
      "평당분양가격     4109 non-null float64\n",
      "dtypes: float64(1), object(5)\n",
      "memory usage: 211.2+ KB\n"
     ]
    }
   ],
   "source": [
    "pre_sale.info()"
   ]
  },
  {
   "cell_type": "code",
   "execution_count": 11,
   "metadata": {},
   "outputs": [
    {
     "data": {
      "text/plain": [
       "지역명          0\n",
       "규모구분         0\n",
       "연도           0\n",
       "월            0\n",
       "분양가격(㎡)    295\n",
       "평당분양가격     396\n",
       "dtype: int64"
      ]
     },
     "execution_count": 11,
     "metadata": {},
     "output_type": "execute_result"
    }
   ],
   "source": [
    "pre_sale.isnull().sum()"
   ]
  },
  {
   "cell_type": "code",
   "execution_count": 12,
   "metadata": {},
   "outputs": [
    {
     "data": {
      "text/html": [
       "<div>\n",
       "<style scoped>\n",
       "    .dataframe tbody tr th:only-of-type {\n",
       "        vertical-align: middle;\n",
       "    }\n",
       "\n",
       "    .dataframe tbody tr th {\n",
       "        vertical-align: top;\n",
       "    }\n",
       "\n",
       "    .dataframe thead th {\n",
       "        text-align: right;\n",
       "    }\n",
       "</style>\n",
       "<table border=\"1\" class=\"dataframe\">\n",
       "  <thead>\n",
       "    <tr style=\"text-align: right;\">\n",
       "      <th></th>\n",
       "      <th>평당분양가격</th>\n",
       "    </tr>\n",
       "  </thead>\n",
       "  <tbody>\n",
       "    <tr>\n",
       "      <th>count</th>\n",
       "      <td>4109.000000</td>\n",
       "    </tr>\n",
       "    <tr>\n",
       "      <th>mean</th>\n",
       "      <td>10761.001241</td>\n",
       "    </tr>\n",
       "    <tr>\n",
       "      <th>std</th>\n",
       "      <td>4256.120381</td>\n",
       "    </tr>\n",
       "    <tr>\n",
       "      <th>min</th>\n",
       "      <td>6164.400000</td>\n",
       "    </tr>\n",
       "    <tr>\n",
       "      <th>25%</th>\n",
       "      <td>8094.900000</td>\n",
       "    </tr>\n",
       "    <tr>\n",
       "      <th>50%</th>\n",
       "      <td>9527.100000</td>\n",
       "    </tr>\n",
       "    <tr>\n",
       "      <th>75%</th>\n",
       "      <td>11860.200000</td>\n",
       "    </tr>\n",
       "    <tr>\n",
       "      <th>max</th>\n",
       "      <td>45655.500000</td>\n",
       "    </tr>\n",
       "  </tbody>\n",
       "</table>\n",
       "</div>"
      ],
      "text/plain": [
       "             평당분양가격\n",
       "count   4109.000000\n",
       "mean   10761.001241\n",
       "std     4256.120381\n",
       "min     6164.400000\n",
       "25%     8094.900000\n",
       "50%     9527.100000\n",
       "75%    11860.200000\n",
       "max    45655.500000"
      ]
     },
     "execution_count": 12,
     "metadata": {},
     "output_type": "execute_result"
    }
   ],
   "source": [
    "pre_sale.describe()"
   ]
  },
  {
   "cell_type": "code",
   "execution_count": 13,
   "metadata": {},
   "outputs": [
    {
     "data": {
      "text/html": [
       "<div>\n",
       "<style scoped>\n",
       "    .dataframe tbody tr th:only-of-type {\n",
       "        vertical-align: middle;\n",
       "    }\n",
       "\n",
       "    .dataframe tbody tr th {\n",
       "        vertical-align: top;\n",
       "    }\n",
       "\n",
       "    .dataframe thead th {\n",
       "        text-align: right;\n",
       "    }\n",
       "</style>\n",
       "<table border=\"1\" class=\"dataframe\">\n",
       "  <thead>\n",
       "    <tr style=\"text-align: right;\">\n",
       "      <th></th>\n",
       "      <th>지역명</th>\n",
       "      <th>규모구분</th>\n",
       "      <th>연도</th>\n",
       "      <th>월</th>\n",
       "      <th>분양가격(㎡)</th>\n",
       "    </tr>\n",
       "  </thead>\n",
       "  <tbody>\n",
       "    <tr>\n",
       "      <th>count</th>\n",
       "      <td>4505</td>\n",
       "      <td>4505</td>\n",
       "      <td>4505</td>\n",
       "      <td>4505</td>\n",
       "      <td>4210</td>\n",
       "    </tr>\n",
       "    <tr>\n",
       "      <th>unique</th>\n",
       "      <td>17</td>\n",
       "      <td>5</td>\n",
       "      <td>6</td>\n",
       "      <td>12</td>\n",
       "      <td>1795</td>\n",
       "    </tr>\n",
       "    <tr>\n",
       "      <th>top</th>\n",
       "      <td>세종</td>\n",
       "      <td>전용면적 60㎡초과 85㎡이하</td>\n",
       "      <td>2019</td>\n",
       "      <td>12</td>\n",
       "      <td>2221</td>\n",
       "    </tr>\n",
       "    <tr>\n",
       "      <th>freq</th>\n",
       "      <td>265</td>\n",
       "      <td>901</td>\n",
       "      <td>1020</td>\n",
       "      <td>425</td>\n",
       "      <td>17</td>\n",
       "    </tr>\n",
       "  </tbody>\n",
       "</table>\n",
       "</div>"
      ],
      "text/plain": [
       "         지역명              규모구분    연도     월 분양가격(㎡)\n",
       "count   4505              4505  4505  4505    4210\n",
       "unique    17                 5     6    12    1795\n",
       "top       세종  전용면적 60㎡초과 85㎡이하  2019    12    2221\n",
       "freq     265               901  1020   425      17"
      ]
     },
     "execution_count": 13,
     "metadata": {},
     "output_type": "execute_result"
    }
   ],
   "source": [
    "pre_sale.describe(include=[np.object])"
   ]
  },
  {
   "cell_type": "code",
   "execution_count": 14,
   "metadata": {},
   "outputs": [
    {
     "name": "stdout",
     "output_type": "stream",
     "text": [
      "(1020, 6)\n"
     ]
    },
    {
     "data": {
      "text/html": [
       "<div>\n",
       "<style scoped>\n",
       "    .dataframe tbody tr th:only-of-type {\n",
       "        vertical-align: middle;\n",
       "    }\n",
       "\n",
       "    .dataframe tbody tr th {\n",
       "        vertical-align: top;\n",
       "    }\n",
       "\n",
       "    .dataframe thead th {\n",
       "        text-align: right;\n",
       "    }\n",
       "</style>\n",
       "<table border=\"1\" class=\"dataframe\">\n",
       "  <thead>\n",
       "    <tr style=\"text-align: right;\">\n",
       "      <th></th>\n",
       "      <th>지역명</th>\n",
       "      <th>규모구분</th>\n",
       "      <th>연도</th>\n",
       "      <th>월</th>\n",
       "      <th>분양가격(㎡)</th>\n",
       "      <th>평당분양가격</th>\n",
       "    </tr>\n",
       "  </thead>\n",
       "  <tbody>\n",
       "    <tr>\n",
       "      <th>3315</th>\n",
       "      <td>서울</td>\n",
       "      <td>전체</td>\n",
       "      <td>2019</td>\n",
       "      <td>1</td>\n",
       "      <td>7600</td>\n",
       "      <td>25080.0</td>\n",
       "    </tr>\n",
       "    <tr>\n",
       "      <th>3316</th>\n",
       "      <td>서울</td>\n",
       "      <td>전용면적 60㎡이하</td>\n",
       "      <td>2019</td>\n",
       "      <td>1</td>\n",
       "      <td>7400</td>\n",
       "      <td>24420.0</td>\n",
       "    </tr>\n",
       "    <tr>\n",
       "      <th>3317</th>\n",
       "      <td>서울</td>\n",
       "      <td>전용면적 60㎡초과 85㎡이하</td>\n",
       "      <td>2019</td>\n",
       "      <td>1</td>\n",
       "      <td>8105</td>\n",
       "      <td>26746.5</td>\n",
       "    </tr>\n",
       "    <tr>\n",
       "      <th>3318</th>\n",
       "      <td>서울</td>\n",
       "      <td>전용면적 85㎡초과 102㎡이하</td>\n",
       "      <td>2019</td>\n",
       "      <td>1</td>\n",
       "      <td>6842</td>\n",
       "      <td>22578.6</td>\n",
       "    </tr>\n",
       "    <tr>\n",
       "      <th>3319</th>\n",
       "      <td>서울</td>\n",
       "      <td>전용면적 102㎡초과</td>\n",
       "      <td>2019</td>\n",
       "      <td>1</td>\n",
       "      <td>7787</td>\n",
       "      <td>25697.1</td>\n",
       "    </tr>\n",
       "  </tbody>\n",
       "</table>\n",
       "</div>"
      ],
      "text/plain": [
       "     지역명               규모구분    연도  월 분양가격(㎡)   평당분양가격\n",
       "3315  서울                 전체  2019  1    7600  25080.0\n",
       "3316  서울         전용면적 60㎡이하  2019  1    7400  24420.0\n",
       "3317  서울   전용면적 60㎡초과 85㎡이하  2019  1    8105  26746.5\n",
       "3318  서울  전용면적 85㎡초과 102㎡이하  2019  1    6842  22578.6\n",
       "3319  서울        전용면적 102㎡초과  2019  1    7787  25697.1"
      ]
     },
     "execution_count": 14,
     "metadata": {},
     "output_type": "execute_result"
    }
   ],
   "source": [
    "# 2019년 데이터만 확인\n",
    "pre_sale_2019 = pre_sale[pre_sale['연도'] == '2019']\n",
    "print(pre_sale_2019.shape)\n",
    "pre_sale_2019.head()"
   ]
  },
  {
   "cell_type": "code",
   "execution_count": 15,
   "metadata": {},
   "outputs": [
    {
     "data": {
      "text/plain": [
       "전용면적 60㎡초과 85㎡이하     901\n",
       "전용면적 85㎡초과 102㎡이하    901\n",
       "전체                   901\n",
       "전용면적 102㎡초과          901\n",
       "전용면적 60㎡이하           901\n",
       "Name: 규모구분, dtype: int64"
      ]
     },
     "execution_count": 15,
     "metadata": {},
     "output_type": "execute_result"
    }
   ],
   "source": [
    "pre_sale['규모구분'].value_counts()"
   ]
  },
  {
   "cell_type": "code",
   "execution_count": 16,
   "metadata": {},
   "outputs": [
    {
     "data": {
      "text/plain": [
       "세종    265\n",
       "강원    265\n",
       "부산    265\n",
       "대전    265\n",
       "울산    265\n",
       "제주    265\n",
       "서울    265\n",
       "경기    265\n",
       "충남    265\n",
       "광주    265\n",
       "전북    265\n",
       "인천    265\n",
       "경북    265\n",
       "전남    265\n",
       "충북    265\n",
       "대구    265\n",
       "경남    265\n",
       "Name: 지역명, dtype: int64"
      ]
     },
     "execution_count": 16,
     "metadata": {},
     "output_type": "execute_result"
    }
   ],
   "source": [
    "pre_sale['지역명'].value_counts()"
   ]
  },
  {
   "cell_type": "markdown",
   "metadata": {},
   "source": [
    "* 전국 평균 분양가격\n",
    "    * groupby, pivot_table"
   ]
  },
  {
   "cell_type": "code",
   "execution_count": 17,
   "metadata": {},
   "outputs": [
    {
     "data": {
      "text/html": [
       "<div>\n",
       "<style scoped>\n",
       "    .dataframe tbody tr th:only-of-type {\n",
       "        vertical-align: middle;\n",
       "    }\n",
       "\n",
       "    .dataframe tbody tr th {\n",
       "        vertical-align: top;\n",
       "    }\n",
       "\n",
       "    .dataframe thead th {\n",
       "        text-align: right;\n",
       "    }\n",
       "</style>\n",
       "<table border=\"1\" class=\"dataframe\">\n",
       "  <thead>\n",
       "    <tr style=\"text-align: right;\">\n",
       "      <th></th>\n",
       "      <th>연도</th>\n",
       "      <th>2015</th>\n",
       "      <th>2016</th>\n",
       "      <th>2017</th>\n",
       "      <th>2018</th>\n",
       "      <th>2019</th>\n",
       "      <th>2020</th>\n",
       "    </tr>\n",
       "  </thead>\n",
       "  <tbody>\n",
       "    <tr>\n",
       "      <th rowspan=\"8\" valign=\"top\">평당분양가격</th>\n",
       "      <th>count</th>\n",
       "      <td>243.000000</td>\n",
       "      <td>984.00000</td>\n",
       "      <td>899.000000</td>\n",
       "      <td>919.000000</td>\n",
       "      <td>912.000000</td>\n",
       "      <td>152.000000</td>\n",
       "    </tr>\n",
       "    <tr>\n",
       "      <th>mean</th>\n",
       "      <td>9202.735802</td>\n",
       "      <td>9683.02500</td>\n",
       "      <td>10360.487653</td>\n",
       "      <td>10978.938411</td>\n",
       "      <td>12188.293092</td>\n",
       "      <td>12718.069737</td>\n",
       "    </tr>\n",
       "    <tr>\n",
       "      <th>std</th>\n",
       "      <td>3223.641902</td>\n",
       "      <td>3535.75715</td>\n",
       "      <td>3655.030071</td>\n",
       "      <td>3914.099768</td>\n",
       "      <td>5158.578369</td>\n",
       "      <td>5723.328673</td>\n",
       "    </tr>\n",
       "    <tr>\n",
       "      <th>min</th>\n",
       "      <td>6164.400000</td>\n",
       "      <td>6270.00000</td>\n",
       "      <td>6520.800000</td>\n",
       "      <td>6850.800000</td>\n",
       "      <td>7009.200000</td>\n",
       "      <td>7580.100000</td>\n",
       "    </tr>\n",
       "    <tr>\n",
       "      <th>25%</th>\n",
       "      <td>7342.500000</td>\n",
       "      <td>7530.60000</td>\n",
       "      <td>7804.500000</td>\n",
       "      <td>8332.500000</td>\n",
       "      <td>8697.150000</td>\n",
       "      <td>8800.275000</td>\n",
       "    </tr>\n",
       "    <tr>\n",
       "      <th>50%</th>\n",
       "      <td>8302.800000</td>\n",
       "      <td>8817.60000</td>\n",
       "      <td>9401.700000</td>\n",
       "      <td>9741.600000</td>\n",
       "      <td>11203.500000</td>\n",
       "      <td>11716.650000</td>\n",
       "    </tr>\n",
       "    <tr>\n",
       "      <th>75%</th>\n",
       "      <td>9984.150000</td>\n",
       "      <td>10390.05000</td>\n",
       "      <td>11404.800000</td>\n",
       "      <td>12203.400000</td>\n",
       "      <td>13418.625000</td>\n",
       "      <td>13655.400000</td>\n",
       "    </tr>\n",
       "    <tr>\n",
       "      <th>max</th>\n",
       "      <td>23403.600000</td>\n",
       "      <td>26716.80000</td>\n",
       "      <td>26027.100000</td>\n",
       "      <td>26723.400000</td>\n",
       "      <td>42002.400000</td>\n",
       "      <td>45655.500000</td>\n",
       "    </tr>\n",
       "  </tbody>\n",
       "</table>\n",
       "</div>"
      ],
      "text/plain": [
       "연도                    2015         2016          2017          2018  \\\n",
       "평당분양가격 count    243.000000    984.00000    899.000000    919.000000   \n",
       "       mean    9202.735802   9683.02500  10360.487653  10978.938411   \n",
       "       std     3223.641902   3535.75715   3655.030071   3914.099768   \n",
       "       min     6164.400000   6270.00000   6520.800000   6850.800000   \n",
       "       25%     7342.500000   7530.60000   7804.500000   8332.500000   \n",
       "       50%     8302.800000   8817.60000   9401.700000   9741.600000   \n",
       "       75%     9984.150000  10390.05000  11404.800000  12203.400000   \n",
       "       max    23403.600000  26716.80000  26027.100000  26723.400000   \n",
       "\n",
       "연도                    2019          2020  \n",
       "평당분양가격 count    912.000000    152.000000  \n",
       "       mean   12188.293092  12718.069737  \n",
       "       std     5158.578369   5723.328673  \n",
       "       min     7009.200000   7580.100000  \n",
       "       25%     8697.150000   8800.275000  \n",
       "       50%    11203.500000  11716.650000  \n",
       "       75%    13418.625000  13655.400000  \n",
       "       max    42002.400000  45655.500000  "
      ]
     },
     "execution_count": 17,
     "metadata": {},
     "output_type": "execute_result"
    }
   ],
   "source": [
    "pre_sale.groupby('연도').describe().T"
   ]
  },
  {
   "cell_type": "code",
   "execution_count": 18,
   "metadata": {},
   "outputs": [
    {
     "data": {
      "text/html": [
       "<div>\n",
       "<style scoped>\n",
       "    .dataframe tbody tr th:only-of-type {\n",
       "        vertical-align: middle;\n",
       "    }\n",
       "\n",
       "    .dataframe tbody tr th {\n",
       "        vertical-align: top;\n",
       "    }\n",
       "\n",
       "    .dataframe thead th {\n",
       "        text-align: right;\n",
       "    }\n",
       "</style>\n",
       "<table border=\"1\" class=\"dataframe\">\n",
       "  <thead>\n",
       "    <tr style=\"text-align: right;\">\n",
       "      <th>연도</th>\n",
       "      <th>2015</th>\n",
       "      <th>2016</th>\n",
       "      <th>2017</th>\n",
       "      <th>2018</th>\n",
       "      <th>2019</th>\n",
       "      <th>2020</th>\n",
       "    </tr>\n",
       "    <tr>\n",
       "      <th>규모구분</th>\n",
       "      <th></th>\n",
       "      <th></th>\n",
       "      <th></th>\n",
       "      <th></th>\n",
       "      <th></th>\n",
       "      <th></th>\n",
       "    </tr>\n",
       "  </thead>\n",
       "  <tbody>\n",
       "    <tr>\n",
       "      <th>전용면적 102㎡초과</th>\n",
       "      <td>9837.226667</td>\n",
       "      <td>10388.728272</td>\n",
       "      <td>11334.484615</td>\n",
       "      <td>11445.574576</td>\n",
       "      <td>13331.520968</td>\n",
       "      <td>13818.970000</td>\n",
       "    </tr>\n",
       "    <tr>\n",
       "      <th>전용면적 60㎡이하</th>\n",
       "      <td>8951.525000</td>\n",
       "      <td>9398.876119</td>\n",
       "      <td>10246.133333</td>\n",
       "      <td>10844.409783</td>\n",
       "      <td>11506.803371</td>\n",
       "      <td>11932.696875</td>\n",
       "    </tr>\n",
       "    <tr>\n",
       "      <th>전용면적 60㎡초과 85㎡이하</th>\n",
       "      <td>8891.817647</td>\n",
       "      <td>9295.986765</td>\n",
       "      <td>9825.000000</td>\n",
       "      <td>10650.611823</td>\n",
       "      <td>11677.201531</td>\n",
       "      <td>11863.014706</td>\n",
       "    </tr>\n",
       "    <tr>\n",
       "      <th>전용면적 85㎡초과 102㎡이하</th>\n",
       "      <td>9518.506250</td>\n",
       "      <td>10122.355435</td>\n",
       "      <td>10540.402454</td>\n",
       "      <td>11441.707895</td>\n",
       "      <td>12980.676923</td>\n",
       "      <td>14955.900000</td>\n",
       "    </tr>\n",
       "    <tr>\n",
       "      <th>전체</th>\n",
       "      <td>8893.047059</td>\n",
       "      <td>9293.042647</td>\n",
       "      <td>9901.270588</td>\n",
       "      <td>10675.825123</td>\n",
       "      <td>11602.715816</td>\n",
       "      <td>11892.908824</td>\n",
       "    </tr>\n",
       "  </tbody>\n",
       "</table>\n",
       "</div>"
      ],
      "text/plain": [
       "연도                        2015          2016          2017          2018  \\\n",
       "규모구분                                                                       \n",
       "전용면적 102㎡초과        9837.226667  10388.728272  11334.484615  11445.574576   \n",
       "전용면적 60㎡이하         8951.525000   9398.876119  10246.133333  10844.409783   \n",
       "전용면적 60㎡초과 85㎡이하   8891.817647   9295.986765   9825.000000  10650.611823   \n",
       "전용면적 85㎡초과 102㎡이하  9518.506250  10122.355435  10540.402454  11441.707895   \n",
       "전체                 8893.047059   9293.042647   9901.270588  10675.825123   \n",
       "\n",
       "연도                         2019          2020  \n",
       "규모구분                                           \n",
       "전용면적 102㎡초과        13331.520968  13818.970000  \n",
       "전용면적 60㎡이하         11506.803371  11932.696875  \n",
       "전용면적 60㎡초과 85㎡이하   11677.201531  11863.014706  \n",
       "전용면적 85㎡초과 102㎡이하  12980.676923  14955.900000  \n",
       "전체                 11602.715816  11892.908824  "
      ]
     },
     "execution_count": 18,
     "metadata": {},
     "output_type": "execute_result"
    }
   ],
   "source": [
    "pre_sale.pivot_table('평당분양가격', '규모구분', '연도')"
   ]
  },
  {
   "cell_type": "markdown",
   "metadata": {},
   "source": [
    "* 규모구분이 전체로 되어있는 금액으로 연도별 변동금액 확인"
   ]
  },
  {
   "cell_type": "code",
   "execution_count": 19,
   "metadata": {},
   "outputs": [
    {
     "data": {
      "text/html": [
       "<div>\n",
       "<style scoped>\n",
       "    .dataframe tbody tr th:only-of-type {\n",
       "        vertical-align: middle;\n",
       "    }\n",
       "\n",
       "    .dataframe tbody tr th {\n",
       "        vertical-align: top;\n",
       "    }\n",
       "\n",
       "    .dataframe thead th {\n",
       "        text-align: right;\n",
       "    }\n",
       "</style>\n",
       "<table border=\"1\" class=\"dataframe\">\n",
       "  <thead>\n",
       "    <tr style=\"text-align: right;\">\n",
       "      <th></th>\n",
       "      <th>지역명</th>\n",
       "      <th>규모구분</th>\n",
       "      <th>연도</th>\n",
       "      <th>월</th>\n",
       "      <th>분양가격(㎡)</th>\n",
       "      <th>평당분양가격</th>\n",
       "    </tr>\n",
       "  </thead>\n",
       "  <tbody>\n",
       "    <tr>\n",
       "      <th>0</th>\n",
       "      <td>서울</td>\n",
       "      <td>전체</td>\n",
       "      <td>2015</td>\n",
       "      <td>10</td>\n",
       "      <td>5841</td>\n",
       "      <td>19275.3</td>\n",
       "    </tr>\n",
       "    <tr>\n",
       "      <th>5</th>\n",
       "      <td>인천</td>\n",
       "      <td>전체</td>\n",
       "      <td>2015</td>\n",
       "      <td>10</td>\n",
       "      <td>3163</td>\n",
       "      <td>10437.9</td>\n",
       "    </tr>\n",
       "    <tr>\n",
       "      <th>10</th>\n",
       "      <td>경기</td>\n",
       "      <td>전체</td>\n",
       "      <td>2015</td>\n",
       "      <td>10</td>\n",
       "      <td>3138</td>\n",
       "      <td>10355.4</td>\n",
       "    </tr>\n",
       "    <tr>\n",
       "      <th>15</th>\n",
       "      <td>부산</td>\n",
       "      <td>전체</td>\n",
       "      <td>2015</td>\n",
       "      <td>10</td>\n",
       "      <td>3112</td>\n",
       "      <td>10269.6</td>\n",
       "    </tr>\n",
       "    <tr>\n",
       "      <th>20</th>\n",
       "      <td>대구</td>\n",
       "      <td>전체</td>\n",
       "      <td>2015</td>\n",
       "      <td>10</td>\n",
       "      <td>2682</td>\n",
       "      <td>8850.6</td>\n",
       "    </tr>\n",
       "  </tbody>\n",
       "</table>\n",
       "</div>"
      ],
      "text/plain": [
       "   지역명 규모구분    연도   월 분양가격(㎡)   평당분양가격\n",
       "0   서울   전체  2015  10    5841  19275.3\n",
       "5   인천   전체  2015  10    3163  10437.9\n",
       "10  경기   전체  2015  10    3138  10355.4\n",
       "15  부산   전체  2015  10    3112  10269.6\n",
       "20  대구   전체  2015  10    2682   8850.6"
      ]
     },
     "execution_count": 19,
     "metadata": {},
     "output_type": "execute_result"
    }
   ],
   "source": [
    "region_year_all = pre_sale[pre_sale['규모구분'] == '전체']\n",
    "region_year_all.head()"
   ]
  },
  {
   "cell_type": "code",
   "execution_count": 20,
   "metadata": {},
   "outputs": [
    {
     "data": {
      "text/html": [
       "<div>\n",
       "<style scoped>\n",
       "    .dataframe tbody tr th:only-of-type {\n",
       "        vertical-align: middle;\n",
       "    }\n",
       "\n",
       "    .dataframe tbody tr th {\n",
       "        vertical-align: top;\n",
       "    }\n",
       "\n",
       "    .dataframe thead th {\n",
       "        text-align: right;\n",
       "    }\n",
       "</style>\n",
       "<table border=\"1\" class=\"dataframe\">\n",
       "  <thead>\n",
       "    <tr style=\"text-align: right;\">\n",
       "      <th>연도</th>\n",
       "      <th>지역명</th>\n",
       "      <th>2015</th>\n",
       "      <th>2016</th>\n",
       "      <th>2017</th>\n",
       "      <th>2018</th>\n",
       "      <th>2019</th>\n",
       "      <th>2020</th>\n",
       "    </tr>\n",
       "  </thead>\n",
       "  <tbody>\n",
       "    <tr>\n",
       "      <th>0</th>\n",
       "      <td>강원</td>\n",
       "      <td>7159.9</td>\n",
       "      <td>7011.125</td>\n",
       "      <td>7126.8</td>\n",
       "      <td>7680.750</td>\n",
       "      <td>8141.65</td>\n",
       "      <td>8266.50</td>\n",
       "    </tr>\n",
       "    <tr>\n",
       "      <th>1</th>\n",
       "      <td>경기</td>\n",
       "      <td>10377.4</td>\n",
       "      <td>11220.000</td>\n",
       "      <td>11850.0</td>\n",
       "      <td>13185.975</td>\n",
       "      <td>14468.85</td>\n",
       "      <td>14858.25</td>\n",
       "    </tr>\n",
       "    <tr>\n",
       "      <th>2</th>\n",
       "      <td>경남</td>\n",
       "      <td>7585.6</td>\n",
       "      <td>7847.950</td>\n",
       "      <td>8119.8</td>\n",
       "      <td>9019.450</td>\n",
       "      <td>9870.85</td>\n",
       "      <td>10107.90</td>\n",
       "    </tr>\n",
       "    <tr>\n",
       "      <th>3</th>\n",
       "      <td>경북</td>\n",
       "      <td>7170.9</td>\n",
       "      <td>7360.650</td>\n",
       "      <td>7794.9</td>\n",
       "      <td>8505.200</td>\n",
       "      <td>8856.65</td>\n",
       "      <td>9287.85</td>\n",
       "    </tr>\n",
       "    <tr>\n",
       "      <th>4</th>\n",
       "      <td>광주</td>\n",
       "      <td>8052.0</td>\n",
       "      <td>8898.725</td>\n",
       "      <td>9463.5</td>\n",
       "      <td>9855.725</td>\n",
       "      <td>11822.80</td>\n",
       "      <td>12681.90</td>\n",
       "    </tr>\n",
       "  </tbody>\n",
       "</table>\n",
       "</div>"
      ],
      "text/plain": [
       "연도 지역명     2015       2016     2017       2018      2019      2020\n",
       "0   강원   7159.9   7011.125   7126.8   7680.750   8141.65   8266.50\n",
       "1   경기  10377.4  11220.000  11850.0  13185.975  14468.85  14858.25\n",
       "2   경남   7585.6   7847.950   8119.8   9019.450   9870.85  10107.90\n",
       "3   경북   7170.9   7360.650   7794.9   8505.200   8856.65   9287.85\n",
       "4   광주   8052.0   8898.725   9463.5   9855.725  11822.80  12681.90"
      ]
     },
     "execution_count": 20,
     "metadata": {},
     "output_type": "execute_result"
    }
   ],
   "source": [
    "region_year = region_year_all.pivot_table('평당분양가격', '지역명', '연도').reset_index()\n",
    "region_year.head()"
   ]
  },
  {
   "cell_type": "code",
   "execution_count": 21,
   "metadata": {},
   "outputs": [
    {
     "name": "stdout",
     "output_type": "stream",
     "text": [
      "6828000\n",
      "319000\n",
      "2999294.117647059\n"
     ]
    },
    {
     "data": {
      "text/html": [
       "<div>\n",
       "<style scoped>\n",
       "    .dataframe tbody tr th:only-of-type {\n",
       "        vertical-align: middle;\n",
       "    }\n",
       "\n",
       "    .dataframe tbody tr th {\n",
       "        vertical-align: top;\n",
       "    }\n",
       "\n",
       "    .dataframe thead th {\n",
       "        text-align: right;\n",
       "    }\n",
       "</style>\n",
       "<table border=\"1\" class=\"dataframe\">\n",
       "  <thead>\n",
       "    <tr style=\"text-align: right;\">\n",
       "      <th>연도</th>\n",
       "      <th>지역명</th>\n",
       "      <th>2015</th>\n",
       "      <th>2016</th>\n",
       "      <th>2017</th>\n",
       "      <th>2018</th>\n",
       "      <th>2019</th>\n",
       "      <th>2020</th>\n",
       "      <th>변동액</th>\n",
       "    </tr>\n",
       "  </thead>\n",
       "  <tbody>\n",
       "    <tr>\n",
       "      <th>0</th>\n",
       "      <td>강원</td>\n",
       "      <td>7159.9</td>\n",
       "      <td>7011.125</td>\n",
       "      <td>7126.8</td>\n",
       "      <td>7680.750</td>\n",
       "      <td>8141.65</td>\n",
       "      <td>8266.50</td>\n",
       "      <td>1106</td>\n",
       "    </tr>\n",
       "    <tr>\n",
       "      <th>1</th>\n",
       "      <td>경기</td>\n",
       "      <td>10377.4</td>\n",
       "      <td>11220.000</td>\n",
       "      <td>11850.0</td>\n",
       "      <td>13185.975</td>\n",
       "      <td>14468.85</td>\n",
       "      <td>14858.25</td>\n",
       "      <td>4480</td>\n",
       "    </tr>\n",
       "    <tr>\n",
       "      <th>2</th>\n",
       "      <td>경남</td>\n",
       "      <td>7585.6</td>\n",
       "      <td>7847.950</td>\n",
       "      <td>8119.8</td>\n",
       "      <td>9019.450</td>\n",
       "      <td>9870.85</td>\n",
       "      <td>10107.90</td>\n",
       "      <td>2522</td>\n",
       "    </tr>\n",
       "    <tr>\n",
       "      <th>3</th>\n",
       "      <td>경북</td>\n",
       "      <td>7170.9</td>\n",
       "      <td>7360.650</td>\n",
       "      <td>7794.9</td>\n",
       "      <td>8505.200</td>\n",
       "      <td>8856.65</td>\n",
       "      <td>9287.85</td>\n",
       "      <td>2116</td>\n",
       "    </tr>\n",
       "    <tr>\n",
       "      <th>4</th>\n",
       "      <td>광주</td>\n",
       "      <td>8052.0</td>\n",
       "      <td>8898.725</td>\n",
       "      <td>9463.5</td>\n",
       "      <td>9855.725</td>\n",
       "      <td>11822.80</td>\n",
       "      <td>12681.90</td>\n",
       "      <td>4629</td>\n",
       "    </tr>\n",
       "  </tbody>\n",
       "</table>\n",
       "</div>"
      ],
      "text/plain": [
       "연도 지역명     2015       2016     2017       2018      2019      2020   변동액\n",
       "0   강원   7159.9   7011.125   7126.8   7680.750   8141.65   8266.50  1106\n",
       "1   경기  10377.4  11220.000  11850.0  13185.975  14468.85  14858.25  4480\n",
       "2   경남   7585.6   7847.950   8119.8   9019.450   9870.85  10107.90  2522\n",
       "3   경북   7170.9   7360.650   7794.9   8505.200   8856.65   9287.85  2116\n",
       "4   광주   8052.0   8898.725   9463.5   9855.725  11822.80  12681.90  4629"
      ]
     },
     "execution_count": 21,
     "metadata": {},
     "output_type": "execute_result"
    }
   ],
   "source": [
    "region_year['변동액'] = (region_year['2020'] - region_year['2015']).astype(int)\n",
    "\n",
    "max_delta_price = np.max(region_year['변동액'])*1000\n",
    "min_delta_price = np.min(region_year['변동액'])*1000\n",
    "mean_delta_price = np.mean(region_year['변동액'])*1000\n",
    "\n",
    "print(max_delta_price) \n",
    "print(min_delta_price)\n",
    "print(mean_delta_price)\n",
    "\n",
    "region_year.head()"
   ]
  },
  {
   "cell_type": "code",
   "execution_count": 22,
   "metadata": {},
   "outputs": [
    {
     "data": {
      "text/html": [
       "<div>\n",
       "<style scoped>\n",
       "    .dataframe tbody tr th:only-of-type {\n",
       "        vertical-align: middle;\n",
       "    }\n",
       "\n",
       "    .dataframe tbody tr th {\n",
       "        vertical-align: top;\n",
       "    }\n",
       "\n",
       "    .dataframe thead th {\n",
       "        text-align: right;\n",
       "    }\n",
       "</style>\n",
       "<table border=\"1\" class=\"dataframe\">\n",
       "  <thead>\n",
       "    <tr style=\"text-align: right;\">\n",
       "      <th>연도</th>\n",
       "      <th>지역명</th>\n",
       "      <th>2015</th>\n",
       "      <th>2016</th>\n",
       "      <th>2017</th>\n",
       "      <th>2018</th>\n",
       "      <th>2019</th>\n",
       "      <th>2020</th>\n",
       "      <th>변동액</th>\n",
       "    </tr>\n",
       "  </thead>\n",
       "  <tbody>\n",
       "    <tr>\n",
       "      <th>8</th>\n",
       "      <td>서울</td>\n",
       "      <td>19725.2</td>\n",
       "      <td>20663.500</td>\n",
       "      <td>21375.9</td>\n",
       "      <td>22889.350</td>\n",
       "      <td>26131.050</td>\n",
       "      <td>26553.45</td>\n",
       "      <td>6828</td>\n",
       "    </tr>\n",
       "    <tr>\n",
       "      <th>14</th>\n",
       "      <td>제주</td>\n",
       "      <td>7405.2</td>\n",
       "      <td>9129.175</td>\n",
       "      <td>10830.9</td>\n",
       "      <td>11890.725</td>\n",
       "      <td>12137.950</td>\n",
       "      <td>13051.50</td>\n",
       "      <td>5646</td>\n",
       "    </tr>\n",
       "    <tr>\n",
       "      <th>5</th>\n",
       "      <td>대구</td>\n",
       "      <td>9232.3</td>\n",
       "      <td>10310.025</td>\n",
       "      <td>11455.8</td>\n",
       "      <td>12075.800</td>\n",
       "      <td>13852.025</td>\n",
       "      <td>14586.00</td>\n",
       "      <td>5353</td>\n",
       "    </tr>\n",
       "    <tr>\n",
       "      <th>4</th>\n",
       "      <td>광주</td>\n",
       "      <td>8052.0</td>\n",
       "      <td>8898.725</td>\n",
       "      <td>9463.5</td>\n",
       "      <td>9855.725</td>\n",
       "      <td>11822.800</td>\n",
       "      <td>12681.90</td>\n",
       "      <td>4629</td>\n",
       "    </tr>\n",
       "    <tr>\n",
       "      <th>1</th>\n",
       "      <td>경기</td>\n",
       "      <td>10377.4</td>\n",
       "      <td>11220.000</td>\n",
       "      <td>11850.0</td>\n",
       "      <td>13185.975</td>\n",
       "      <td>14468.850</td>\n",
       "      <td>14858.25</td>\n",
       "      <td>4480</td>\n",
       "    </tr>\n",
       "    <tr>\n",
       "      <th>6</th>\n",
       "      <td>대전</td>\n",
       "      <td>8098.2</td>\n",
       "      <td>8501.625</td>\n",
       "      <td>9044.7</td>\n",
       "      <td>10180.225</td>\n",
       "      <td>11777.700</td>\n",
       "      <td>11985.60</td>\n",
       "      <td>3887</td>\n",
       "    </tr>\n",
       "    <tr>\n",
       "      <th>11</th>\n",
       "      <td>인천</td>\n",
       "      <td>10484.1</td>\n",
       "      <td>10532.500</td>\n",
       "      <td>10736.7</td>\n",
       "      <td>11273.900</td>\n",
       "      <td>12634.875</td>\n",
       "      <td>13346.85</td>\n",
       "      <td>2862</td>\n",
       "    </tr>\n",
       "    <tr>\n",
       "      <th>9</th>\n",
       "      <td>세종</td>\n",
       "      <td>8750.5</td>\n",
       "      <td>8860.500</td>\n",
       "      <td>9135.3</td>\n",
       "      <td>10354.850</td>\n",
       "      <td>11078.925</td>\n",
       "      <td>11411.40</td>\n",
       "      <td>2660</td>\n",
       "    </tr>\n",
       "    <tr>\n",
       "      <th>7</th>\n",
       "      <td>부산</td>\n",
       "      <td>10307.0</td>\n",
       "      <td>10429.925</td>\n",
       "      <td>11577.9</td>\n",
       "      <td>12997.875</td>\n",
       "      <td>13116.400</td>\n",
       "      <td>12883.20</td>\n",
       "      <td>2576</td>\n",
       "    </tr>\n",
       "    <tr>\n",
       "      <th>2</th>\n",
       "      <td>경남</td>\n",
       "      <td>7585.6</td>\n",
       "      <td>7847.950</td>\n",
       "      <td>8119.8</td>\n",
       "      <td>9019.450</td>\n",
       "      <td>9870.850</td>\n",
       "      <td>10107.90</td>\n",
       "      <td>2522</td>\n",
       "    </tr>\n",
       "    <tr>\n",
       "      <th>3</th>\n",
       "      <td>경북</td>\n",
       "      <td>7170.9</td>\n",
       "      <td>7360.650</td>\n",
       "      <td>7794.9</td>\n",
       "      <td>8505.200</td>\n",
       "      <td>8856.650</td>\n",
       "      <td>9287.85</td>\n",
       "      <td>2116</td>\n",
       "    </tr>\n",
       "    <tr>\n",
       "      <th>12</th>\n",
       "      <td>전남</td>\n",
       "      <td>6317.3</td>\n",
       "      <td>6488.625</td>\n",
       "      <td>7187.7</td>\n",
       "      <td>7789.100</td>\n",
       "      <td>7902.400</td>\n",
       "      <td>8235.15</td>\n",
       "      <td>1917</td>\n",
       "    </tr>\n",
       "    <tr>\n",
       "      <th>15</th>\n",
       "      <td>충남</td>\n",
       "      <td>7114.8</td>\n",
       "      <td>7330.675</td>\n",
       "      <td>7456.2</td>\n",
       "      <td>8012.675</td>\n",
       "      <td>8606.950</td>\n",
       "      <td>8652.60</td>\n",
       "      <td>1537</td>\n",
       "    </tr>\n",
       "    <tr>\n",
       "      <th>13</th>\n",
       "      <td>전북</td>\n",
       "      <td>6703.4</td>\n",
       "      <td>6417.950</td>\n",
       "      <td>7057.8</td>\n",
       "      <td>7625.750</td>\n",
       "      <td>8196.650</td>\n",
       "      <td>8144.40</td>\n",
       "      <td>1441</td>\n",
       "    </tr>\n",
       "    <tr>\n",
       "      <th>16</th>\n",
       "      <td>충북</td>\n",
       "      <td>6645.1</td>\n",
       "      <td>6770.225</td>\n",
       "      <td>6762.6</td>\n",
       "      <td>7874.075</td>\n",
       "      <td>7574.600</td>\n",
       "      <td>7755.00</td>\n",
       "      <td>1109</td>\n",
       "    </tr>\n",
       "    <tr>\n",
       "      <th>0</th>\n",
       "      <td>강원</td>\n",
       "      <td>7159.9</td>\n",
       "      <td>7011.125</td>\n",
       "      <td>7126.8</td>\n",
       "      <td>7680.750</td>\n",
       "      <td>8141.650</td>\n",
       "      <td>8266.50</td>\n",
       "      <td>1106</td>\n",
       "    </tr>\n",
       "    <tr>\n",
       "      <th>10</th>\n",
       "      <td>울산</td>\n",
       "      <td>10052.9</td>\n",
       "      <td>10208.550</td>\n",
       "      <td>11345.1</td>\n",
       "      <td>10241.400</td>\n",
       "      <td>10022.100</td>\n",
       "      <td>10371.90</td>\n",
       "      <td>319</td>\n",
       "    </tr>\n",
       "  </tbody>\n",
       "</table>\n",
       "</div>"
      ],
      "text/plain": [
       "연도 지역명     2015       2016     2017       2018       2019      2020   변동액\n",
       "8   서울  19725.2  20663.500  21375.9  22889.350  26131.050  26553.45  6828\n",
       "14  제주   7405.2   9129.175  10830.9  11890.725  12137.950  13051.50  5646\n",
       "5   대구   9232.3  10310.025  11455.8  12075.800  13852.025  14586.00  5353\n",
       "4   광주   8052.0   8898.725   9463.5   9855.725  11822.800  12681.90  4629\n",
       "1   경기  10377.4  11220.000  11850.0  13185.975  14468.850  14858.25  4480\n",
       "6   대전   8098.2   8501.625   9044.7  10180.225  11777.700  11985.60  3887\n",
       "11  인천  10484.1  10532.500  10736.7  11273.900  12634.875  13346.85  2862\n",
       "9   세종   8750.5   8860.500   9135.3  10354.850  11078.925  11411.40  2660\n",
       "7   부산  10307.0  10429.925  11577.9  12997.875  13116.400  12883.20  2576\n",
       "2   경남   7585.6   7847.950   8119.8   9019.450   9870.850  10107.90  2522\n",
       "3   경북   7170.9   7360.650   7794.9   8505.200   8856.650   9287.85  2116\n",
       "12  전남   6317.3   6488.625   7187.7   7789.100   7902.400   8235.15  1917\n",
       "15  충남   7114.8   7330.675   7456.2   8012.675   8606.950   8652.60  1537\n",
       "13  전북   6703.4   6417.950   7057.8   7625.750   8196.650   8144.40  1441\n",
       "16  충북   6645.1   6770.225   6762.6   7874.075   7574.600   7755.00  1109\n",
       "0   강원   7159.9   7011.125   7126.8   7680.750   8141.650   8266.50  1106\n",
       "10  울산  10052.9  10208.550  11345.1  10241.400  10022.100  10371.90   319"
      ]
     },
     "execution_count": 22,
     "metadata": {},
     "output_type": "execute_result"
    }
   ],
   "source": [
    "region_year.sort_values(by='변동액', ascending=False)"
   ]
  },
  {
   "cell_type": "markdown",
   "metadata": {},
   "source": [
    "## 시각화\n",
    "* 앤스콤의 4인방\n",
    "    * 아래 4개의 데이터는 평균, 표준편차, 상관계수가 같지만 시각화를 해소면 전혀 다른 데이터임을 알 수 있다."
   ]
  },
  {
   "cell_type": "markdown",
   "metadata": {},
   "source": [
    "![](https://upload.wikimedia.org/wikipedia/commons/thumb/e/ec/Anscombe%27s_quartet_3.svg/990px-Anscombe%27s_quartet_3.svg.png)"
   ]
  },
  {
   "cell_type": "code",
   "execution_count": 28,
   "metadata": {},
   "outputs": [],
   "source": [
    "import seaborn as sns\n",
    "sns.set_style(\"whitegrid\")\n",
    "\n",
    "%matplotlib inline\n",
    "import matplotlib.pyplot as plt\n",
    "plt.rc('font',family='Malgun Gothic')"
   ]
  },
  {
   "cell_type": "markdown",
   "metadata": {},
   "source": [
    "* seaborn 막대그래프"
   ]
  },
  {
   "cell_type": "code",
   "execution_count": 29,
   "metadata": {},
   "outputs": [
    {
     "data": {
      "text/plain": [
       "<matplotlib.axes._subplots.AxesSubplot at 0x16e95283160>"
      ]
     },
     "execution_count": 29,
     "metadata": {},
     "output_type": "execute_result"
    },
    {
     "data": {
      "image/png": "[encoded data removed]",
      "text/plain": [
       "<Figure size 1440x576 with 1 Axes>"
      ]
     },
     "metadata": {
      "needs_background": "light"
     },
     "output_type": "display_data"
    }
   ],
   "source": [
    "plt.figure(figsize=(20,8))\n",
    "plt.title('2015-2020년 신규 민간 아파트 분양가격')\n",
    "sns.barplot(data=region_year_all, x='지역명', y='평당분양가격', hue='연도')"
   ]
  },
  {
   "cell_type": "markdown",
   "metadata": {},
   "source": [
    "* pandas 막대그래프"
   ]
  },
  {
   "cell_type": "code",
   "execution_count": 30,
   "metadata": {},
   "outputs": [
    {
     "data": {
      "text/html": [
       "<div>\n",
       "<style scoped>\n",
       "    .dataframe tbody tr th:only-of-type {\n",
       "        vertical-align: middle;\n",
       "    }\n",
       "\n",
       "    .dataframe tbody tr th {\n",
       "        vertical-align: top;\n",
       "    }\n",
       "\n",
       "    .dataframe thead th {\n",
       "        text-align: right;\n",
       "    }\n",
       "</style>\n",
       "<table border=\"1\" class=\"dataframe\">\n",
       "  <thead>\n",
       "    <tr style=\"text-align: right;\">\n",
       "      <th>연도</th>\n",
       "      <th>2015</th>\n",
       "      <th>2016</th>\n",
       "      <th>2017</th>\n",
       "      <th>2018</th>\n",
       "      <th>2019</th>\n",
       "      <th>2020</th>\n",
       "    </tr>\n",
       "    <tr>\n",
       "      <th>지역명</th>\n",
       "      <th></th>\n",
       "      <th></th>\n",
       "      <th></th>\n",
       "      <th></th>\n",
       "      <th></th>\n",
       "      <th></th>\n",
       "    </tr>\n",
       "  </thead>\n",
       "  <tbody>\n",
       "    <tr>\n",
       "      <th>경북</th>\n",
       "      <td>7170.9</td>\n",
       "      <td>7360.650</td>\n",
       "      <td>7794.9</td>\n",
       "      <td>8505.20</td>\n",
       "      <td>8856.65</td>\n",
       "      <td>9287.85</td>\n",
       "    </tr>\n",
       "    <tr>\n",
       "      <th>전북</th>\n",
       "      <td>6703.4</td>\n",
       "      <td>6417.950</td>\n",
       "      <td>7057.8</td>\n",
       "      <td>7625.75</td>\n",
       "      <td>8196.65</td>\n",
       "      <td>8144.40</td>\n",
       "    </tr>\n",
       "    <tr>\n",
       "      <th>강원</th>\n",
       "      <td>7159.9</td>\n",
       "      <td>7011.125</td>\n",
       "      <td>7126.8</td>\n",
       "      <td>7680.75</td>\n",
       "      <td>8141.65</td>\n",
       "      <td>8266.50</td>\n",
       "    </tr>\n",
       "  </tbody>\n",
       "</table>\n",
       "</div>"
      ],
      "text/plain": [
       "연도     2015      2016    2017     2018     2019     2020\n",
       "지역명                                                     \n",
       "경북   7170.9  7360.650  7794.9  8505.20  8856.65  9287.85\n",
       "전북   6703.4  6417.950  7057.8  7625.75  8196.65  8144.40\n",
       "강원   7159.9  7011.125  7126.8  7680.75  8141.65  8266.50"
      ]
     },
     "execution_count": 30,
     "metadata": {},
     "output_type": "execute_result"
    }
   ],
   "source": [
    "df_year_region = pd.pivot_table(region_year_all, index=['지역명'], columns='연도', values='평당분양가격')\n",
    "df_year_region.sample(3)"
   ]
  },
  {
   "cell_type": "code",
   "execution_count": 31,
   "metadata": {},
   "outputs": [
    {
     "data": {
      "text/plain": [
       "Index(['2015', '2016', '2017', '2018', '2019', '2020'], dtype='object', name='연도')"
      ]
     },
     "execution_count": 31,
     "metadata": {},
     "output_type": "execute_result"
    }
   ],
   "source": [
    "df_year_region.columns"
   ]
  },
  {
   "cell_type": "code",
   "execution_count": 32,
   "metadata": {},
   "outputs": [
    {
     "data": {
      "text/plain": [
       "<matplotlib.axes._subplots.AxesSubplot at 0x16e95fa81d0>"
      ]
     },
     "execution_count": 32,
     "metadata": {},
     "output_type": "execute_result"
    },
    {
     "data": {
      "image/png": "[encoded data removed]",
      "text/plain": [
       "<Figure size 1728x576 with 1 Axes>"
      ]
     },
     "metadata": {
      "needs_background": "light"
     },
     "output_type": "display_data"
    }
   ],
   "source": [
    "df_year_region.plot.bar(figsize=(24,8),\n",
    "                       grid=True, fontsize=20, rot=0,\n",
    "                       title='지역, 연도별 평당 평균 분양가')"
   ]
  },
  {
   "cell_type": "code",
   "execution_count": null,
   "metadata": {},
   "outputs": [],
   "source": []
  }
 ],
 "metadata": {
  "kernelspec": {
   "display_name": "Python 3",
   "language": "python",
   "name": "python3"
  },
  "language_info": {
   "codemirror_mode": {
    "name": "ipython",
    "version": 3
   },
   "file_extension": ".py",
   "mimetype": "text/x-python",
   "name": "python",
   "nbconvert_exporter": "python",
   "pygments_lexer": "ipython3",
   "version": "3.7.3"
  }
 },
 "nbformat": 4,
 "nbformat_minor": 4
}
